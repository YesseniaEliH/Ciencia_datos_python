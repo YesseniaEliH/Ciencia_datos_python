{
 "cells": [
  {
   "cell_type": "markdown",
   "id": "4383b5c3",
   "metadata": {},
   "source": [
    "# Proyecto Nº 1 - CIENCIA DE DATOS CON PYTHON"
   ]
  },
  {
   "cell_type": "markdown",
   "id": "1663235d",
   "metadata": {},
   "source": [
    "## Ejercicio Nº 1:\n",
    "Escribir un programa que pregunte al usuario o genere las ventas de los últimos 5 días, y muestre por pantalla una serie (Dataframe) con los datos de las ventas por producto (opcional): Nro de unidades y precio unitario, indexada por los días, antes y después de aplicarles un descuento del 5%."
   ]
  },
  {
   "cell_type": "code",
   "execution_count": 234,
   "id": "6ae517a3",
   "metadata": {},
   "outputs": [],
   "source": [
    "# Importamos las librerías numpy y pandas\n",
    "import numpy as np\n",
    "import pandas as pd\n",
    "# Librería para imprimir diccionarios en python de forma legible\n",
    "import pprint "
   ]
  },
  {
   "cell_type": "code",
   "execution_count": 235,
   "id": "17375d4c",
   "metadata": {},
   "outputs": [
    {
     "name": "stdout",
     "output_type": "stream",
     "text": [
      "DIA 01/09/2022 - Ingrese la cantidad vendida del PRODUCTO 1 (Unidades): 15\n",
      "DIA 01/09/2022 - Ingrese la cantidad vendida del PRODUCTO 2 (Unidades): 16\n",
      "DIA 01/09/2022 - Ingrese la cantidad vendida del PRODUCTO 3 (Unidades): 10\n",
      "**************************************************\n",
      "DIA 02/09/2022 - Ingrese la cantidad vendida del PRODUCTO 1 (Unidades): 9\n",
      "DIA 02/09/2022 - Ingrese la cantidad vendida del PRODUCTO 2 (Unidades): 18\n",
      "DIA 02/09/2022 - Ingrese la cantidad vendida del PRODUCTO 3 (Unidades): 25\n",
      "**************************************************\n",
      "DIA 03/09/2022 - Ingrese la cantidad vendida del PRODUCTO 1 (Unidades): 40\n",
      "DIA 03/09/2022 - Ingrese la cantidad vendida del PRODUCTO 2 (Unidades): 20\n",
      "DIA 03/09/2022 - Ingrese la cantidad vendida del PRODUCTO 3 (Unidades): 12\n",
      "**************************************************\n",
      "DIA 04/09/2022 - Ingrese la cantidad vendida del PRODUCTO 1 (Unidades): 16\n",
      "DIA 04/09/2022 - Ingrese la cantidad vendida del PRODUCTO 2 (Unidades): 20\n",
      "DIA 04/09/2022 - Ingrese la cantidad vendida del PRODUCTO 3 (Unidades): 40\n",
      "**************************************************\n",
      "DIA 05/09/2022 - Ingrese la cantidad vendida del PRODUCTO 1 (Unidades): 25\n",
      "DIA 05/09/2022 - Ingrese la cantidad vendida del PRODUCTO 2 (Unidades): 8\n",
      "DIA 05/09/2022 - Ingrese la cantidad vendida del PRODUCTO 3 (Unidades): 12\n",
      "**************************************************\n",
      "{'01/09/2022': {'Producto1': {'Cantidad': 15, 'Precio': 10.0},\n",
      "                'Producto2': {'Cantidad': 16, 'Precio': 20.0},\n",
      "                'Producto3': {'Cantidad': 10, 'Precio': 15.0}},\n",
      " '02/09/2022': {'Producto1': {'Cantidad': 9, 'Precio': 10.0},\n",
      "                'Producto2': {'Cantidad': 18, 'Precio': 20.0},\n",
      "                'Producto3': {'Cantidad': 25, 'Precio': 15.0}},\n",
      " '03/09/2022': {'Producto1': {'Cantidad': 40, 'Precio': 10.0},\n",
      "                'Producto2': {'Cantidad': 20, 'Precio': 20.0},\n",
      "                'Producto3': {'Cantidad': 12, 'Precio': 15.0}},\n",
      " '04/09/2022': {'Producto1': {'Cantidad': 16, 'Precio': 10.0},\n",
      "                'Producto2': {'Cantidad': 20, 'Precio': 20.0},\n",
      "                'Producto3': {'Cantidad': 40, 'Precio': 15.0}},\n",
      " '05/09/2022': {'Producto1': {'Cantidad': 25, 'Precio': 10.0},\n",
      "                'Producto2': {'Cantidad': 8, 'Precio': 20.0},\n",
      "                'Producto3': {'Cantidad': 12, 'Precio': 15.0}}}\n"
     ]
    }
   ],
   "source": [
    "# Declaramos variables\n",
    "dict_periodos_ventas = {} \n",
    "rango_fechas = pd.date_range(\"20220901\", periods=5).strftime('%d/%m/%Y')\n",
    "precio_unitario = [10.,20.,15.]\n",
    "# Declaramos función para solicitar cantidad vendida\n",
    "def cantidad_vendida(dia,producto,dict_): \n",
    "    \"\"\"\n",
    "    Parámetros\n",
    "    ----------\n",
    "    `dia` : str(strftime)\n",
    "    `producto` : str\n",
    "    `dict_` : dict    \n",
    "\n",
    "    La finalidad es pedir el ingreso de la cantidad vendida de un producto de un día específico,\n",
    "    si es una cantidad negativa, solicita un nuevo ingreso\n",
    "    Almacena en el diccionario fechas, producto, caantidad y precio.\n",
    "    \"\"\"\n",
    "    ingreso = int(input(f\"DIA {i} - Ingrese la cantidad vendida del PRODUCTO {j+1} (Unidades): \"))\n",
    "    if ingreso < 0:\n",
    "        print(\"¡No puede tener un ingreso negativo!, ingrese nuevamente\")\n",
    "        cantidad_vendida(dia,producto,dict_)\n",
    "    else:\n",
    "        dict_[f\"Producto{j+1}\"]= {'Cantidad':ingreso, 'Precio':precio_unitario[j]}\n",
    "\n",
    "#Almacena en el diccionario dict_periodos_ventas   \n",
    "for i in rango_fechas:\n",
    "    ventas = {}\n",
    "    for j in range(0,3):\n",
    "        cantidad_vendida(i,j,ventas)\n",
    "    dict_periodos_ventas[str(i)] = ventas\n",
    "            \n",
    "    print('*'*50)\n",
    "pprint.pprint(dict_periodos_ventas)"
   ]
  },
  {
   "cell_type": "code",
   "execution_count": 236,
   "id": "ac6fae05",
   "metadata": {},
   "outputs": [
    {
     "data": {
      "text/html": [
       "<div>\n",
       "<style scoped>\n",
       "    .dataframe tbody tr th:only-of-type {\n",
       "        vertical-align: middle;\n",
       "    }\n",
       "\n",
       "    .dataframe tbody tr th {\n",
       "        vertical-align: top;\n",
       "    }\n",
       "\n",
       "    .dataframe thead th {\n",
       "        text-align: right;\n",
       "    }\n",
       "</style>\n",
       "<table border=\"1\" class=\"dataframe\">\n",
       "  <thead>\n",
       "    <tr style=\"text-align: right;\">\n",
       "      <th></th>\n",
       "      <th></th>\n",
       "      <th>Cantidad</th>\n",
       "      <th>Precio</th>\n",
       "      <th>Total</th>\n",
       "      <th>TotalDescuento(S/.)</th>\n",
       "    </tr>\n",
       "  </thead>\n",
       "  <tbody>\n",
       "    <tr>\n",
       "      <th rowspan=\"3\" valign=\"top\">01/09/2022</th>\n",
       "      <th>Producto1</th>\n",
       "      <td>15</td>\n",
       "      <td>10.0</td>\n",
       "      <td>150.0</td>\n",
       "      <td>142.50</td>\n",
       "    </tr>\n",
       "    <tr>\n",
       "      <th>Producto2</th>\n",
       "      <td>16</td>\n",
       "      <td>20.0</td>\n",
       "      <td>320.0</td>\n",
       "      <td>304.00</td>\n",
       "    </tr>\n",
       "    <tr>\n",
       "      <th>Producto3</th>\n",
       "      <td>10</td>\n",
       "      <td>15.0</td>\n",
       "      <td>150.0</td>\n",
       "      <td>142.50</td>\n",
       "    </tr>\n",
       "    <tr>\n",
       "      <th rowspan=\"3\" valign=\"top\">02/09/2022</th>\n",
       "      <th>Producto1</th>\n",
       "      <td>9</td>\n",
       "      <td>10.0</td>\n",
       "      <td>90.0</td>\n",
       "      <td>85.50</td>\n",
       "    </tr>\n",
       "    <tr>\n",
       "      <th>Producto2</th>\n",
       "      <td>18</td>\n",
       "      <td>20.0</td>\n",
       "      <td>360.0</td>\n",
       "      <td>342.00</td>\n",
       "    </tr>\n",
       "    <tr>\n",
       "      <th>Producto3</th>\n",
       "      <td>25</td>\n",
       "      <td>15.0</td>\n",
       "      <td>375.0</td>\n",
       "      <td>356.25</td>\n",
       "    </tr>\n",
       "    <tr>\n",
       "      <th rowspan=\"3\" valign=\"top\">03/09/2022</th>\n",
       "      <th>Producto1</th>\n",
       "      <td>40</td>\n",
       "      <td>10.0</td>\n",
       "      <td>400.0</td>\n",
       "      <td>380.00</td>\n",
       "    </tr>\n",
       "    <tr>\n",
       "      <th>Producto2</th>\n",
       "      <td>20</td>\n",
       "      <td>20.0</td>\n",
       "      <td>400.0</td>\n",
       "      <td>380.00</td>\n",
       "    </tr>\n",
       "    <tr>\n",
       "      <th>Producto3</th>\n",
       "      <td>12</td>\n",
       "      <td>15.0</td>\n",
       "      <td>180.0</td>\n",
       "      <td>171.00</td>\n",
       "    </tr>\n",
       "    <tr>\n",
       "      <th rowspan=\"3\" valign=\"top\">04/09/2022</th>\n",
       "      <th>Producto1</th>\n",
       "      <td>16</td>\n",
       "      <td>10.0</td>\n",
       "      <td>160.0</td>\n",
       "      <td>152.00</td>\n",
       "    </tr>\n",
       "    <tr>\n",
       "      <th>Producto2</th>\n",
       "      <td>20</td>\n",
       "      <td>20.0</td>\n",
       "      <td>400.0</td>\n",
       "      <td>380.00</td>\n",
       "    </tr>\n",
       "    <tr>\n",
       "      <th>Producto3</th>\n",
       "      <td>40</td>\n",
       "      <td>15.0</td>\n",
       "      <td>600.0</td>\n",
       "      <td>570.00</td>\n",
       "    </tr>\n",
       "    <tr>\n",
       "      <th rowspan=\"3\" valign=\"top\">05/09/2022</th>\n",
       "      <th>Producto1</th>\n",
       "      <td>25</td>\n",
       "      <td>10.0</td>\n",
       "      <td>250.0</td>\n",
       "      <td>237.50</td>\n",
       "    </tr>\n",
       "    <tr>\n",
       "      <th>Producto2</th>\n",
       "      <td>8</td>\n",
       "      <td>20.0</td>\n",
       "      <td>160.0</td>\n",
       "      <td>152.00</td>\n",
       "    </tr>\n",
       "    <tr>\n",
       "      <th>Producto3</th>\n",
       "      <td>12</td>\n",
       "      <td>15.0</td>\n",
       "      <td>180.0</td>\n",
       "      <td>171.00</td>\n",
       "    </tr>\n",
       "  </tbody>\n",
       "</table>\n",
       "</div>"
      ],
      "text/plain": [
       "                      Cantidad  Precio  Total  TotalDescuento(S/.)\n",
       "01/09/2022 Producto1        15    10.0  150.0               142.50\n",
       "           Producto2        16    20.0  320.0               304.00\n",
       "           Producto3        10    15.0  150.0               142.50\n",
       "02/09/2022 Producto1         9    10.0   90.0                85.50\n",
       "           Producto2        18    20.0  360.0               342.00\n",
       "           Producto3        25    15.0  375.0               356.25\n",
       "03/09/2022 Producto1        40    10.0  400.0               380.00\n",
       "           Producto2        20    20.0  400.0               380.00\n",
       "           Producto3        12    15.0  180.0               171.00\n",
       "04/09/2022 Producto1        16    10.0  160.0               152.00\n",
       "           Producto2        20    20.0  400.0               380.00\n",
       "           Producto3        40    15.0  600.0               570.00\n",
       "05/09/2022 Producto1        25    10.0  250.0               237.50\n",
       "           Producto2         8    20.0  160.0               152.00\n",
       "           Producto3        12    15.0  180.0               171.00"
      ]
     },
     "execution_count": 236,
     "metadata": {},
     "output_type": "execute_result"
    }
   ],
   "source": [
    "# Construimos el dataframe a partir del diccionario\n",
    "df_ventas = pd.DataFrame.from_dict({(i,j): dict_periodos_ventas[i][j] \n",
    "                           for i in dict_periodos_ventas.keys() \n",
    "                           for j in dict_periodos_ventas[i].keys()},\n",
    "                       orient='index')\n",
    "# Agregamos las columnas Total y TotalDescuento con el 5 %\n",
    "df_ventas['Total'] = df_ventas['Precio']*df_ventas['Cantidad']\n",
    "descuento_5 = (df_ventas['Precio']*df_ventas['Cantidad'])*0.05\n",
    "df_ventas['TotalDescuento(S/.)'] = (df_ventas['Precio']*df_ventas['Cantidad'])-descuento_5\n",
    "df_ventas"
   ]
  },
  {
   "cell_type": "markdown",
   "id": "35190336",
   "metadata": {},
   "source": [
    "## Ejercicio Nº 2:\n",
    "Escribir un programa que reciba un diccionario con los ingresos\n",
    "mensuales de los clientes de una empresa, y devuelva una serie\n",
    "con el ingreso mínimo, máximo y media.\n",
    "El resultado final debe ser una serie con los estadísticos."
   ]
  },
  {
   "cell_type": "code",
   "execution_count": 238,
   "id": "6d44c652",
   "metadata": {},
   "outputs": [
    {
     "name": "stdout",
     "output_type": "stream",
     "text": [
      "{'abril': {'cliente1': 4000, 'cliente2': 3000, 'cliente3': 5000},\n",
      " 'agosto': {'cliente1': 4000, 'cliente2': 3000, 'cliente3': 5000},\n",
      " 'diciembre': {'cliente1': 4000, 'cliente2': 3000, 'cliente3': 5000},\n",
      " 'enero': {'cliente1': 5000, 'cliente2': 6000, 'cliente3': 7000},\n",
      " 'febrero': {'cliente1': 4000, 'cliente2': 3000, 'cliente3': 5000},\n",
      " 'julio': {'cliente1': 4000, 'cliente2': 3000, 'cliente3': 5000},\n",
      " 'junio': {'cliente1': 4000, 'cliente2': 3000, 'cliente3': 5000},\n",
      " 'marzo': {'cliente1': 4000, 'cliente2': 3000, 'cliente3': 5000},\n",
      " 'mayo': {'cliente1': 4000, 'cliente2': 3000, 'cliente3': 5000},\n",
      " 'noviembre': {'cliente1': 4000, 'cliente2': 3000, 'cliente3': 5000},\n",
      " 'octubre': {'cliente1': 4000, 'cliente2': 3000, 'cliente3': 5000},\n",
      " 'setiembre': {'cliente1': 4000, 'cliente2': 3000, 'cliente3': 5000}}\n"
     ]
    }
   ],
   "source": [
    "# Construimos un diccionario con los ingresos mensuales de los clientes de una empresa\n",
    "dict_ingresos_mensuales={\n",
    "    'enero':{'cliente1':5000, 'cliente2':6000, 'cliente3':7000},\n",
    "    'febrero':{'cliente1':4000, 'cliente2':3000, 'cliente3':5000},\n",
    "    'marzo':{'cliente1':4000, 'cliente2':3000, 'cliente3':5000},\n",
    "    'abril':{'cliente1':4000, 'cliente2':3000, 'cliente3':5000},\n",
    "    'mayo':{'cliente1':4000, 'cliente2':3000, 'cliente3':5000},\n",
    "    'junio':{'cliente1':4000, 'cliente2':3000, 'cliente3':5000},\n",
    "    'julio':{'cliente1':4000, 'cliente2':3000, 'cliente3':5000},\n",
    "    'agosto':{'cliente1':4000, 'cliente2':3000, 'cliente3':5000},\n",
    "    'setiembre':{'cliente1':4000, 'cliente2':3000, 'cliente3':5000},\n",
    "    'octubre':{'cliente1':4000, 'cliente2':3000, 'cliente3':5000},\n",
    "    'noviembre':{'cliente1':4000, 'cliente2':3000, 'cliente3':5000},\n",
    "    'diciembre':{'cliente1':4000, 'cliente2':3000, 'cliente3':5000}\n",
    "}\n",
    "pprint.pprint(dict_ingresos_mensuales)"
   ]
  },
  {
   "cell_type": "code",
   "execution_count": 239,
   "id": "b3ee2d1e",
   "metadata": {},
   "outputs": [
    {
     "name": "stdout",
     "output_type": "stream",
     "text": [
      "         cliente1  cliente2     cliente3\n",
      "min   4000.000000    3000.0  5000.000000\n",
      "max   5000.000000    6000.0  7000.000000\n",
      "mean  4083.333333    3250.0  5166.666667\n",
      "----------------------------------------------------------------------------------------------------\n",
      "min     3000.0\n",
      "max     6000.0\n",
      "mean    3250.0\n",
      "Name: cliente2, dtype: float64\n"
     ]
    }
   ],
   "source": [
    "df= pd.DataFrame(index=dict_ingresos_mensuales.keys())\n",
    "df['cliente1'] = [value['cliente1'] for value in dict_ingresos_mensuales.values()]\n",
    "df['cliente2'] = [value['cliente2'] for value in dict_ingresos_mensuales.values()]\n",
    "df['cliente3'] = [value['cliente3'] for value in dict_ingresos_mensuales.values()]\n",
    "\n",
    "# Obtiene ingreso mínimo, máximo y media.\n",
    "min_max_mean = df.describe().loc[['min','max','mean']]\n",
    "print(min_max_mean)\n",
    "print(\"-\"*100)\n",
    "# Muestra serie de los ingresos mínimo, máximo, media\n",
    "print(min_max_mean['cliente2'])"
   ]
  },
  {
   "cell_type": "code",
   "execution_count": 240,
   "id": "52ce5d53",
   "metadata": {},
   "outputs": [
    {
     "name": "stdout",
     "output_type": "stream",
     "text": [
      "       enero  febrero   marzo   abril    mayo   junio   julio  agosto  \\\n",
      "min   5000.0   3000.0  3000.0  3000.0  3000.0  3000.0  3000.0  3000.0   \n",
      "max   7000.0   5000.0  5000.0  5000.0  5000.0  5000.0  5000.0  5000.0   \n",
      "mean  6000.0   4000.0  4000.0  4000.0  4000.0  4000.0  4000.0  4000.0   \n",
      "\n",
      "      setiembre  octubre  noviembre  diciembre  \n",
      "min      3000.0   3000.0     3000.0     3000.0  \n",
      "max      5000.0   5000.0     5000.0     5000.0  \n",
      "mean     4000.0   4000.0     4000.0     4000.0  \n",
      "----------------------------------------------------------------------------------------------------\n",
      "min     3000.0\n",
      "max     5000.0\n",
      "mean    4000.0\n",
      "Name: febrero, dtype: float64\n"
     ]
    }
   ],
   "source": [
    "# dataframe transpuesto \n",
    "df_1=df.T \n",
    "# Obtiene ingreso mínimo, máximo y media de dataframe transpuesto.\n",
    "min_max_mean_t = df_1.describe().loc[['min','max','mean']]\n",
    "print(min_max_mean_t)\n",
    "print(\"-\"*100)\n",
    "# Muestra serie de los ingresos mínimo, máximo, media\n",
    "print(min_max_mean_t['febrero'])"
   ]
  },
  {
   "cell_type": "markdown",
   "id": "b02c8783",
   "metadata": {},
   "source": [
    "## Ejercicio Nº 3:\n",
    "Escribir programa que genere y muestre por pantalla un DataFrame\n",
    "con los datos de la siguiente tabla:"
   ]
  },
  {
   "cell_type": "code",
   "execution_count": 241,
   "id": "e8a30b9f",
   "metadata": {},
   "outputs": [
    {
     "data": {
      "text/html": [
       "<div>\n",
       "<style scoped>\n",
       "    .dataframe tbody tr th:only-of-type {\n",
       "        vertical-align: middle;\n",
       "    }\n",
       "\n",
       "    .dataframe tbody tr th {\n",
       "        vertical-align: top;\n",
       "    }\n",
       "\n",
       "    .dataframe thead th {\n",
       "        text-align: right;\n",
       "    }\n",
       "</style>\n",
       "<table border=\"1\" class=\"dataframe\">\n",
       "  <thead>\n",
       "    <tr style=\"text-align: right;\">\n",
       "      <th></th>\n",
       "      <th>Mes</th>\n",
       "      <th>Ventas</th>\n",
       "      <th>Gastos</th>\n",
       "    </tr>\n",
       "  </thead>\n",
       "  <tbody>\n",
       "    <tr>\n",
       "      <th>0</th>\n",
       "      <td>Enero</td>\n",
       "      <td>30500</td>\n",
       "      <td>22000</td>\n",
       "    </tr>\n",
       "    <tr>\n",
       "      <th>1</th>\n",
       "      <td>Febrero</td>\n",
       "      <td>35600</td>\n",
       "      <td>23450</td>\n",
       "    </tr>\n",
       "    <tr>\n",
       "      <th>2</th>\n",
       "      <td>Marzo</td>\n",
       "      <td>28300</td>\n",
       "      <td>18100</td>\n",
       "    </tr>\n",
       "    <tr>\n",
       "      <th>3</th>\n",
       "      <td>Abril</td>\n",
       "      <td>33900</td>\n",
       "      <td>35700</td>\n",
       "    </tr>\n",
       "    <tr>\n",
       "      <th>4</th>\n",
       "      <td>Mayo</td>\n",
       "      <td>42500</td>\n",
       "      <td>32450</td>\n",
       "    </tr>\n",
       "  </tbody>\n",
       "</table>\n",
       "</div>"
      ],
      "text/plain": [
       "       Mes  Ventas  Gastos\n",
       "0    Enero   30500   22000\n",
       "1  Febrero   35600   23450\n",
       "2    Marzo   28300   18100\n",
       "3    Abril   33900   35700\n",
       "4     Mayo   42500   32450"
      ]
     },
     "execution_count": 241,
     "metadata": {},
     "output_type": "execute_result"
    }
   ],
   "source": [
    "# Construimos un dataframe\n",
    "df_ventas_gastos= pd.DataFrame()\n",
    "df_ventas_gastos['Mes'] = ('Enero','Febrero','Marzo','Abril','Mayo')\n",
    "df_ventas_gastos['Ventas'] = (30500,35600,28300,33900,42500)\n",
    "df_ventas_gastos['Gastos'] = (22000,23450,18100,35700,32450)\n",
    "df_ventas_gastos"
   ]
  },
  {
   "cell_type": "markdown",
   "id": "d8c82bea",
   "metadata": {},
   "source": [
    "A continuación, generar nuevas columna:\n",
    "1. Columna 1 = Gasto/Ventas*100.\n",
    "2. Columna 2 = Si Ventas>= 30000, imprimir “Meta Superada”,\n",
    "caso contrario imprimir “Meta no Superada”.\n",
    "3. Columna 3 = Si Gasto>Ventas, calcular el sobre gasto.\n",
    "4. Obtener el total de las ventas de los últimos 3 meses\n",
    "5. Obtener el total de gastos de febrero a abril"
   ]
  },
  {
   "cell_type": "code",
   "execution_count": 242,
   "id": "e926bd07",
   "metadata": {},
   "outputs": [
    {
     "data": {
      "text/html": [
       "<div>\n",
       "<style scoped>\n",
       "    .dataframe tbody tr th:only-of-type {\n",
       "        vertical-align: middle;\n",
       "    }\n",
       "\n",
       "    .dataframe tbody tr th {\n",
       "        vertical-align: top;\n",
       "    }\n",
       "\n",
       "    .dataframe thead th {\n",
       "        text-align: right;\n",
       "    }\n",
       "</style>\n",
       "<table border=\"1\" class=\"dataframe\">\n",
       "  <thead>\n",
       "    <tr style=\"text-align: right;\">\n",
       "      <th></th>\n",
       "      <th>Mes</th>\n",
       "      <th>Ventas</th>\n",
       "      <th>Gastos</th>\n",
       "      <th>Columna1</th>\n",
       "      <th>Columna2</th>\n",
       "      <th>Columna3</th>\n",
       "    </tr>\n",
       "  </thead>\n",
       "  <tbody>\n",
       "    <tr>\n",
       "      <th>0</th>\n",
       "      <td>Enero</td>\n",
       "      <td>30500</td>\n",
       "      <td>22000</td>\n",
       "      <td>72.131148</td>\n",
       "      <td>Meta Superada</td>\n",
       "      <td></td>\n",
       "    </tr>\n",
       "    <tr>\n",
       "      <th>1</th>\n",
       "      <td>Febrero</td>\n",
       "      <td>35600</td>\n",
       "      <td>23450</td>\n",
       "      <td>65.870787</td>\n",
       "      <td>Meta Superada</td>\n",
       "      <td></td>\n",
       "    </tr>\n",
       "    <tr>\n",
       "      <th>2</th>\n",
       "      <td>Marzo</td>\n",
       "      <td>28300</td>\n",
       "      <td>18100</td>\n",
       "      <td>63.957597</td>\n",
       "      <td>Meta no Superada</td>\n",
       "      <td></td>\n",
       "    </tr>\n",
       "    <tr>\n",
       "      <th>3</th>\n",
       "      <td>Abril</td>\n",
       "      <td>33900</td>\n",
       "      <td>35700</td>\n",
       "      <td>105.309735</td>\n",
       "      <td>Meta Superada</td>\n",
       "      <td>1800</td>\n",
       "    </tr>\n",
       "    <tr>\n",
       "      <th>4</th>\n",
       "      <td>Mayo</td>\n",
       "      <td>42500</td>\n",
       "      <td>32450</td>\n",
       "      <td>76.352941</td>\n",
       "      <td>Meta Superada</td>\n",
       "      <td></td>\n",
       "    </tr>\n",
       "  </tbody>\n",
       "</table>\n",
       "</div>"
      ],
      "text/plain": [
       "       Mes  Ventas  Gastos    Columna1          Columna2 Columna3\n",
       "0    Enero   30500   22000   72.131148     Meta Superada         \n",
       "1  Febrero   35600   23450   65.870787     Meta Superada         \n",
       "2    Marzo   28300   18100   63.957597  Meta no Superada         \n",
       "3    Abril   33900   35700  105.309735     Meta Superada     1800\n",
       "4     Mayo   42500   32450   76.352941     Meta Superada         "
      ]
     },
     "execution_count": 242,
     "metadata": {},
     "output_type": "execute_result"
    }
   ],
   "source": [
    "# Agregamos las columnas\n",
    "df_ventas_gastos['Columna1'] = df_ventas_gastos['Gastos']/ df_ventas_gastos['Ventas']*100\n",
    "df_ventas_gastos['Columna2'] = np.where(df_ventas_gastos['Ventas'] >= 30000, 'Meta Superada', 'Meta no Superada')\n",
    "df_ventas_gastos['Columna3'] = np.where(df_ventas_gastos['Gastos'] > df_ventas_gastos['Ventas'], df_ventas_gastos['Gastos']-df_ventas_gastos['Ventas'], '')\n",
    "\n",
    "df_ventas_gastos"
   ]
  },
  {
   "cell_type": "code",
   "execution_count": 243,
   "id": "8f741a59",
   "metadata": {},
   "outputs": [
    {
     "data": {
      "text/plain": [
       "104700"
      ]
     },
     "execution_count": 243,
     "metadata": {},
     "output_type": "execute_result"
    }
   ],
   "source": [
    "# Total de ventas de los últimos 3 meses\n",
    "total_ventas_ultimos_3meses = df_ventas_gastos[2:]['Ventas'].sum()\n",
    "total_ventas_ultimos_3meses"
   ]
  },
  {
   "cell_type": "code",
   "execution_count": 244,
   "id": "47bcc630",
   "metadata": {},
   "outputs": [
    {
     "data": {
      "text/plain": [
       "77250"
      ]
     },
     "execution_count": 244,
     "metadata": {},
     "output_type": "execute_result"
    }
   ],
   "source": [
    "# Total de gastos de febrero a abril\n",
    "total_gastos_feb_mar_abr = df_ventas_gastos[1:4]['Gastos'].sum()\n",
    "total_gastos_feb_mar_abr"
   ]
  },
  {
   "cell_type": "markdown",
   "id": "37bba271",
   "metadata": {},
   "source": [
    "## Ejercicio Nº 4:\n",
    "Con el siguiente fichero Data - Riesgos.csv contiene información de riesgo de clientes de un banco. Escribir un programa con los\n",
    "siguientes requisitos:\n",
    "1. Generar un DataFrame con los datos del fichero.\n",
    "2. Mostrar por pantalla las dimensiones del DataFrame, el\n",
    "número de datos que contiene, los nombres de sus columnas\n",
    "y filas, los tipos de datos de las columnas, mostrar las 10\n",
    "primeras filas y las 10 últimas filas, verificar si tiene datos\n",
    "perdidos/nulos.\n",
    "3. Extraer las 100 primeras filas y almacenarlas en un contenedor."
   ]
  },
  {
   "cell_type": "code",
   "execution_count": 245,
   "id": "f0996e0a",
   "metadata": {},
   "outputs": [
    {
     "name": "stdout",
     "output_type": "stream",
     "text": [
      "<class 'pandas.core.frame.DataFrame'>\n",
      "RangeIndex: 4500 entries, 0 to 4499\n",
      "Data columns (total 10 columns):\n",
      " #   Column         Non-Null Count  Dtype  \n",
      "---  ------         --------------  -----  \n",
      " 0   ID             4500 non-null   int64  \n",
      " 1   edad           4487 non-null   float64\n",
      " 2   meses          4494 non-null   float64\n",
      " 3   max_ant        4496 non-null   float64\n",
      " 4   ingreso        4495 non-null   float64\n",
      " 5   score          4495 non-null   float64\n",
      " 6   tipo_vivienda  4500 non-null   int64  \n",
      " 7   zona           4494 non-null   float64\n",
      " 8   nivel          4500 non-null   int64  \n",
      " 9   riesgo         4500 non-null   int64  \n",
      "dtypes: float64(6), int64(4)\n",
      "memory usage: 351.7 KB\n"
     ]
    }
   ],
   "source": [
    "# Cargamos los datos en un Dataframe\n",
    "dataframe_riesgos = pd.read_csv('C:/Users/yesel/OneDrive/Documentos/CUADERNOS_JUPYTER/Data - Riesgos.csv')\n",
    "\n",
    "# Mostramos la información del DataFrame\n",
    "dataframe_riesgos.info()"
   ]
  },
  {
   "cell_type": "code",
   "execution_count": 205,
   "id": "33dc961c",
   "metadata": {},
   "outputs": [
    {
     "name": "stdout",
     "output_type": "stream",
     "text": [
      "     ID  edad  meses  max_ant  ingreso  score  tipo_vivienda  zona  nivel  \\\n",
      "0  2208  33.0  128.0      6.0   3230.0  192.0              2   3.0      2   \n",
      "1  2211  32.0  185.0      7.0   2930.0  217.0              2   1.0      5   \n",
      "2  2212  28.0    NaN      7.0   1883.7  202.0              2   1.0      2   \n",
      "3  2216  56.0  200.0      0.0    850.0  194.0              2   1.0      5   \n",
      "4  2218  32.0  131.0     65.0   3200.0  200.0              2   1.0      2   \n",
      "5  2219  34.0  145.0      6.0   7000.0  196.0              2   5.0      2   \n",
      "6  2226   NaN  114.0      0.0   2171.5  178.0              2   2.0      1   \n",
      "7  2227  27.0  116.0      0.0    800.0  169.0              2   1.0      5   \n",
      "8  2228  26.0  182.0      6.0   3150.0  190.0              4   3.0      5   \n",
      "9  2230  25.0  154.0      1.0   2600.0  189.0              2   1.0      2   \n",
      "\n",
      "   riesgo  \n",
      "0       1  \n",
      "1       1  \n",
      "2       1  \n",
      "3       1  \n",
      "4       1  \n",
      "5       1  \n",
      "6       1  \n",
      "7       1  \n",
      "8       1  \n",
      "9       1  \n",
      "----------------------------------------------------------------------------------------------------\n",
      "        ID  edad  meses  max_ant   ingreso  score  tipo_vivienda  zona  nivel  \\\n",
      "4490  1486  59.0  288.0      0.0  30000.00  207.0              2   1.0      2   \n",
      "4491  1487  55.0  294.0     57.0   9300.00  238.0              4   1.0      2   \n",
      "4492  1488  53.0  148.0    106.0  30000.00  219.0              4   1.0      2   \n",
      "4493  1491  29.0  198.0     94.0   5250.00  214.0              2   1.0      2   \n",
      "4494  1493  32.0  195.0     41.0   7500.00  219.0              2   1.0      2   \n",
      "4495  1494  54.0  510.0     87.0  24000.00  214.0              2   1.0      2   \n",
      "4496  1495  63.0  305.0     99.0   9880.73  219.0              2   5.0      2   \n",
      "4497  1496  48.0  194.0    124.0  23000.00  224.0              4   1.0      2   \n",
      "4498  1497  39.0  245.0    121.0  12450.00  240.0              4   5.0      2   \n",
      "4499  1499  65.0  674.0     38.0  20000.00  238.0              4   5.0      2   \n",
      "\n",
      "      riesgo  \n",
      "4490       0  \n",
      "4491       0  \n",
      "4492       0  \n",
      "4493       0  \n",
      "4494       0  \n",
      "4495       0  \n",
      "4496       0  \n",
      "4497       0  \n",
      "4498       0  \n",
      "4499       0  \n"
     ]
    }
   ],
   "source": [
    "# Mostramos las primeras 10 filas\n",
    "print(dataframe_riesgos.head(10))\n",
    "print(\"-\"*100)\n",
    "# Mostramos las últimas 10 filas\n",
    "print(dataframe_riesgos.tail(10))\n"
   ]
  },
  {
   "cell_type": "code",
   "execution_count": 246,
   "id": "f1ba82fa",
   "metadata": {},
   "outputs": [
    {
     "name": "stdout",
     "output_type": "stream",
     "text": [
      "         ID   edad  meses  max_ant  ingreso  score  tipo_vivienda   zona  \\\n",
      "0     False  False  False    False    False  False          False  False   \n",
      "1     False  False  False    False    False  False          False  False   \n",
      "2     False  False   True    False    False  False          False  False   \n",
      "3     False  False  False    False    False  False          False  False   \n",
      "4     False  False  False    False    False  False          False  False   \n",
      "...     ...    ...    ...      ...      ...    ...            ...    ...   \n",
      "4495  False  False  False    False    False  False          False  False   \n",
      "4496  False  False  False    False    False  False          False  False   \n",
      "4497  False  False  False    False    False  False          False  False   \n",
      "4498  False  False  False    False    False  False          False  False   \n",
      "4499  False  False  False    False    False  False          False  False   \n",
      "\n",
      "      nivel  riesgo  \n",
      "0     False   False  \n",
      "1     False   False  \n",
      "2     False   False  \n",
      "3     False   False  \n",
      "4     False   False  \n",
      "...     ...     ...  \n",
      "4495  False   False  \n",
      "4496  False   False  \n",
      "4497  False   False  \n",
      "4498  False   False  \n",
      "4499  False   False  \n",
      "\n",
      "[4500 rows x 10 columns]\n",
      "ID                0\n",
      "edad             13\n",
      "meses             6\n",
      "max_ant           4\n",
      "ingreso           5\n",
      "score             5\n",
      "tipo_vivienda     0\n",
      "zona              6\n",
      "nivel             0\n",
      "riesgo            0\n",
      "dtype: int64\n"
     ]
    }
   ],
   "source": [
    "# Verificamos datos perdidos o nulos\n",
    "print(dataframe_riesgos.isnull())\n",
    "total_datos_perdidos = dataframe_riesgos.isnull().sum()\n",
    "print(total_datos_perdidos)\n"
   ]
  },
  {
   "cell_type": "code",
   "execution_count": 249,
   "id": "0200b195",
   "metadata": {
    "scrolled": true
   },
   "outputs": [
    {
     "name": "stdout",
     "output_type": "stream",
     "text": [
      "      ID  edad  meses  max_ant  ingreso  score  tipo_vivienda  zona  nivel  \\\n",
      "0   2208  33.0  128.0      6.0  3230.00  192.0              2   3.0      2   \n",
      "1   2211  32.0  185.0      7.0  2930.00  217.0              2   1.0      5   \n",
      "2   2212  28.0    NaN      7.0  1883.70  202.0              2   1.0      2   \n",
      "3   2216  56.0  200.0      0.0   850.00  194.0              2   1.0      5   \n",
      "4   2218  32.0  131.0     65.0  3200.00  200.0              2   1.0      2   \n",
      "..   ...   ...    ...      ...      ...    ...            ...   ...    ...   \n",
      "95  2387  41.0  141.0      0.0  3420.36  214.0              4   2.0      1   \n",
      "96  2389  29.0  159.0     17.0  1157.06  163.0              2   4.0      2   \n",
      "97  2391  27.0  122.0      NaN  2000.00  188.0              2   1.0      2   \n",
      "98  2392  35.0  111.0      0.0   812.53  177.0              2   1.0      5   \n",
      "99  2394  28.0  137.0      0.0  2000.00  175.0              3   1.0      5   \n",
      "\n",
      "    riesgo  \n",
      "0        1  \n",
      "1        1  \n",
      "2        1  \n",
      "3        1  \n",
      "4        1  \n",
      "..     ...  \n",
      "95       1  \n",
      "96       1  \n",
      "97       1  \n",
      "98       1  \n",
      "99       1  \n",
      "\n",
      "[100 rows x 10 columns]\n"
     ]
    }
   ],
   "source": [
    "# Se almacenan los primeros 100 registros en un contenedor\n",
    "filas_100 = dataframe_riesgos.head(100)\n",
    "print(filas_100)"
   ]
  },
  {
   "cell_type": "markdown",
   "id": "e53694f8",
   "metadata": {},
   "source": [
    "FIN"
   ]
  }
 ],
 "metadata": {
  "kernelspec": {
   "display_name": "Python 3 (ipykernel)",
   "language": "python",
   "name": "python3"
  },
  "language_info": {
   "codemirror_mode": {
    "name": "ipython",
    "version": 3
   },
   "file_extension": ".py",
   "mimetype": "text/x-python",
   "name": "python",
   "nbconvert_exporter": "python",
   "pygments_lexer": "ipython3",
   "version": "3.8.7"
  }
 },
 "nbformat": 4,
 "nbformat_minor": 5
}
